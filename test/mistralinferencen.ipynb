{
 "cells": [
  {
   "cell_type": "code",
   "execution_count": 1,
   "id": "0291f360-35e1-45e1-b40f-235633c871e1",
   "metadata": {},
   "outputs": [
    {
     "data": {
      "application/vnd.jupyter.widget-view+json": {
       "model_id": "bbce9506e205431780dd87ee797eb3c0",
       "version_major": 2,
       "version_minor": 0
      },
      "text/plain": [
       "Loading checkpoint shards:   0%|          | 0/2 [00:00<?, ?it/s]"
      ]
     },
     "metadata": {},
     "output_type": "display_data"
    }
   ],
   "source": [
    "import torch\n",
    "from transformers import AutoTokenizer, AutoModelForCausalLM, BitsAndBytesConfig\n",
    "\n",
    "base_model_id = \"mistralai/Mistral-7B-v0.1\"\n",
    "bnb_config = BitsAndBytesConfig(\n",
    "    load_in_4bit=True,\n",
    "    bnb_4bit_use_double_quant=True,\n",
    "    bnb_4bit_quant_type=\"nf4\",\n",
    "    bnb_4bit_compute_dtype=torch.bfloat16\n",
    ")\n",
    "\n",
    "base_model = AutoModelForCausalLM.from_pretrained(\n",
    "    base_model_id,  # Mistral, same as before\n",
    "    quantization_config=bnb_config,  # Same quantization config as before\n",
    "    device_map=\"auto\",\n",
    "    trust_remote_code=True,\n",
    ")\n",
    "\n",
    "eval_tokenizer = AutoTokenizer.from_pretrained(base_model_id, add_bos_token=True, trust_remote_code=True)"
   ]
  },
  {
   "cell_type": "code",
   "execution_count": 13,
   "id": "24a58afa-ac5d-4076-8846-aa87a43330a8",
   "metadata": {},
   "outputs": [],
   "source": [
    "from peft import PeftModel\n",
    "\n",
    "ft_model = PeftModel.from_pretrained(base_model, \"mistral7bs500/checkpoint-175\")"
   ]
  },
  {
   "cell_type": "code",
   "execution_count": 14,
   "id": "b8d38e35-e872-45f9-9c11-c5fc320a5d2d",
   "metadata": {},
   "outputs": [
    {
     "name": "stderr",
     "output_type": "stream",
     "text": [
      "Setting `pad_token_id` to `eos_token_id`:2 for open-end generation.\n"
     ]
    },
    {
     "name": "stdout",
     "output_type": "stream",
     "text": [
      "Generate 5 question from this text in array format to get most info about the text.\n",
      "RESEARCH ARTICLE Open Access© The Author(s) 2024. Open Access   This article is licensed under a Creative Commons Attribution 4.0 International License, which permits use,  sharing, adaptation, distribution and reproduction in any medium or format, as long as you give appropriate credit to the original author(s) and  the source, provide a link to the Creative Commons licence, and indicate if changes were made. The images or other third party material in this  article are included in the article’s Creative Commons licence, unless indicated otherwise in a credit line to the material. If material is not included  in the article’s Creative Commons licence and your intended use is not permitted by statutory regulation or exceeds the permitted use, you will  need to obtain permission directly from the copyright holder. To view a copy of this licence, visit http://creativecommons.org/licenses/by/4.0/ . The  Creative Commons Public Domain Dedication waiver ( http://creativecommons.org/publicdomain/zero/1.0/ ) applies to the data made available  in this article, unless otherwise stated in a credit line to the data.Mateo-Otero et al. Biological Research             (2024) 57:5  https://doi.org/10.1186/s40659-024-00483-4 ATP by oxidative phosphorylation (OXPHOS) [ 3], has  been found to positively influence oocyte fertilisation in  humans [ 4–6]. In spite of this, a metabolomics approach  carried out using the pig as an animal model found that  metabolites linked to OXPHOS were related to subop - timal in vitro fertilisation (IVF) outcomes in terms of  altered embryo development [ 2]. While the underlying  mechanisms of these associations are yet to be uncov - ered, one could reasonably suggest that reactive oxygen  species (ROS) are implicated. Sperm mitochondria have been proposed as a major  source of ROS [ 7], produced from the leakage of respira - tory chain electrons [ 8]. Under physiological conditions,  ROS are involved in the regulation of sperm function,  participating in the modulation of sperm capacita - tion and acrosomal reaction and, even, oocyte fertilisa - tion [ 9]. Overproduction of ROS, nonetheless, results in Background The energetic metabolic signature of mammalian sperm  influences reproductive outcomes, both in terms of  oocyte fertilisation and embryo development [ 1, 2].  Indeed, mitochondrial membrane potential (MMP),  which indirectly reflects the cellular capacity to produce Biological Research †Yentel Mateo-Otero and Marc Llavanera contributed equally to this  work. *Correspondence: Yentel Mateo-Otero yentel.mateo@udg.edu 1Biotechnology of Animal and Human Reproduction (TechnoSperm),  Institute of Food and Agricultural Technology, University of Girona,   Girona ES-17003, Spain 2Unit of Cell Biology, Department of Biology, Faculty of Sciences,  University of Girona, Girona ES- 17003, Spain 3Catalan Institution for Research and Advanced Studies (ICREA),   Barcelona ES-08010, SpainAbstract Background  Basal energetic metabolism in sperm, particularly oxidative phosphorylation, is known to condition  not only their oocyte fertilising ability, but also the subsequent embryo development. While the molecular pathways  underlying these events still need to be elucidated, reactive oxygen species (ROS) could have a relevant role. We,  therefore, aimed to describe the mechanisms through which mitochondrial activity can influence the first stages of  embryo development. Results  We first show that embryo development is tightly influenced by both intracellular ROS and mitochondrial  activity. In addition, we depict that the inhibition of mitochondrial activity dramatically decreases intracellular ROS  levels. Finally, we also demonstrate that the inhibition of mitochondrial respiration positively influences sperm DNA  integrity, most likely because of the depletion of intracellular ROS formation. Conclusion  Collectively, the data presented in this work reveals that impairment of early embryo development may  result from the accumulation of sperm DNA damage caused by mitochondrial-derived ROS. Keywords  Sperm metabolism, Mitochondrial respiration, electron transport chain, Cyanide, Oocyte fertilisation,  Embryo development, Oxidative phosphorylationEmbryo development is impaired by sperm  mitochondrial-derived ROS Yentel Mateo-Otero1,2*†, Marc Llavanera1,2†, Marc Torres-Garrido1,2 and Marc Yeste1,2,3\n",
      "\n",
      ",  mitochondrial activity was assessed by measuring the mitochondrial membrane potential (MMP). MMP is a parameter  reflecting the functional status of mitochondria and it is commonly used as an indicator of the cellular capacity to pro - duce adenosine triphosphate (ATP) via oxidative phosphorylation (OXPHOS) [ 10]. It is well established that spermatozoa  with high MMP values are more competent than those with low MMP values in terms of oocyte activation and pronu - cleation [ 11, 12]. However, the relationship between MMP and embryonic development is less clear. Some studies  reported no correlation between MMP and embryo quality [ 13, 14] while others observed a positive correlation  between high MMP and good embryo quality [ 15, 16]. These discrepancies might be due to the different methods used to measure MMP. For instance, flow cytometry analysis requires large sample sizes, making it unsuitable for small samples such as spermatozoa. On the other hand, fluorescence microscopy allows the visualization of individual cells, but it is time-consuming and prone to subjectivity. Herein, we employed a novel method based on confocal microscopy combined with image analysis to quantify MMP in single spermatozoa. This technique enables the simultaneous assessment of thousands of spermatozoa within a few minutes, thus providing a fast and accurate means of analysing large datasets. To further explore the impact of sperm mitochondrial activity on embryo development, we treated spermatozoa with cyanide, a potent inhibitor of complex IV of the mitochondrial electron transport chain (ETC). Cyanide prevents the transfer of electrons from coenzyme Q to oxygen, leading to a decrease in ATP production via OXPHOS. Interestingly, we observed that the treatment of spermatozoa with cyanide significantly reduced the rate of embryo development until the 8-cell stage. Moreover, we found that the presence of spermatozoa treated with cyanide led to a significant increase in the generation of ROS in zygotes.\n"
     ]
    }
   ],
   "source": [
    "eval_prompt = \"\"\"Generate 5 question from this text in array format to get most info about the text.\n",
    "RESEARCH ARTICLE Open Access© The Author(s) 2024. Open Access   This article is licensed under a Creative Commons Attribution 4.0 International License, which permits use,  sharing, adaptation, distribution and reproduction in any medium or format, as long as you give appropriate credit to the original author(s) and  the source, provide a link to the Creative Commons licence, and indicate if changes were made. The images or other third party material in this  article are included in the article’s Creative Commons licence, unless indicated otherwise in a credit line to the material. If material is not included  in the article’s Creative Commons licence and your intended use is not permitted by statutory regulation or exceeds the permitted use, you will  need to obtain permission directly from the copyright holder. To view a copy of this licence, visit http://creativecommons.org/licenses/by/4.0/ . The  Creative Commons Public Domain Dedication waiver ( http://creativecommons.org/publicdomain/zero/1.0/ ) applies to the data made available  in this article, unless otherwise stated in a credit line to the data.Mateo-Otero et al. Biological Research             (2024) 57:5  https://doi.org/10.1186/s40659-024-00483-4 ATP by oxidative phosphorylation (OXPHOS) [ 3], has  been found to positively influence oocyte fertilisation in  humans [ 4–6]. In spite of this, a metabolomics approach  carried out using the pig as an animal model found that  metabolites linked to OXPHOS were related to subop - timal in vitro fertilisation (IVF) outcomes in terms of  altered embryo development [ 2]. While the underlying  mechanisms of these associations are yet to be uncov - ered, one could reasonably suggest that reactive oxygen  species (ROS) are implicated. Sperm mitochondria have been proposed as a major  source of ROS [ 7], produced from the leakage of respira - tory chain electrons [ 8]. Under physiological conditions,  ROS are involved in the regulation of sperm function,  participating in the modulation of sperm capacita - tion and acrosomal reaction and, even, oocyte fertilisa - tion [ 9]. Overproduction of ROS, nonetheless, results in Background The energetic metabolic signature of mammalian sperm  influences reproductive outcomes, both in terms of  oocyte fertilisation and embryo development [ 1, 2].  Indeed, mitochondrial membrane potential (MMP),  which indirectly reflects the cellular capacity to produce Biological Research †Yentel Mateo-Otero and Marc Llavanera contributed equally to this  work. *Correspondence: Yentel Mateo-Otero yentel.mateo@udg.edu 1Biotechnology of Animal and Human Reproduction (TechnoSperm),  Institute of Food and Agricultural Technology, University of Girona,   Girona ES-17003, Spain 2Unit of Cell Biology, Department of Biology, Faculty of Sciences,  University of Girona, Girona ES- 17003, Spain 3Catalan Institution for Research and Advanced Studies (ICREA),   Barcelona ES-08010, SpainAbstract Background  Basal energetic metabolism in sperm, particularly oxidative phosphorylation, is known to condition  not only their oocyte fertilising ability, but also the subsequent embryo development. While the molecular pathways  underlying these events still need to be elucidated, reactive oxygen species (ROS) could have a relevant role. We,  therefore, aimed to describe the mechanisms through which mitochondrial activity can influence the first stages of  embryo development. Results  We first show that embryo development is tightly influenced by both intracellular ROS and mitochondrial  activity. In addition, we depict that the inhibition of mitochondrial activity dramatically decreases intracellular ROS  levels. Finally, we also demonstrate that the inhibition of mitochondrial respiration positively influences sperm DNA  integrity, most likely because of the depletion of intracellular ROS formation. Conclusion  Collectively, the data presented in this work reveals that impairment of early embryo development may  result from the accumulation of sperm DNA damage caused by mitochondrial-derived ROS. Keywords  Sperm metabolism, Mitochondrial respiration, electron transport chain, Cyanide, Oocyte fertilisation,  Embryo development, Oxidative phosphorylationEmbryo development is impaired by sperm  mitochondrial-derived ROS Yentel Mateo-Otero1,2*†, Marc Llavanera1,2†, Marc Torres-Garrido1,2 and Marc Yeste1,2,3\\n\\n\"\"\"\n",
    "model_input = eval_tokenizer(eval_prompt, return_tensors=\"pt\").to(\"cuda\")\n",
    "ft_model.eval()\n",
    "with torch.no_grad():\n",
    "    print(eval_tokenizer.decode(ft_model.generate(**model_input, max_new_tokens=500, repetition_penalty=1.15)[0], skip_special_tokens=True))"
   ]
  }
 ],
 "metadata": {
  "kernelspec": {
   "display_name": "Python 3 (ipykernel)",
   "language": "python",
   "name": "python3"
  },
  "language_info": {
   "codemirror_mode": {
    "name": "ipython",
    "version": 3
   },
   "file_extension": ".py",
   "mimetype": "text/x-python",
   "name": "python",
   "nbconvert_exporter": "python",
   "pygments_lexer": "ipython3",
   "version": "3.10.12"
  }
 },
 "nbformat": 4,
 "nbformat_minor": 5
}
